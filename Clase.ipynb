{
 "cells": [
  {
   "cell_type": "markdown",
   "metadata": {
    "slideshow": {
     "slide_type": "slide"
    }
   },
   "source": [
    "<h1 align=\"center\"> Git y GitHub </h1>\n",
    "\n",
    "<center><img src=\"images/git-github.png\" height=\"800\" width=\"800\">\n",
    "</center>"
   ]
  },
  {
   "cell_type": "markdown",
   "metadata": {
    "slideshow": {
     "slide_type": "slide"
    }
   },
   "source": [
    "## Objetivos \n",
    "\n",
    "- Entender el flujo de trabajo con Git y GitHub.\n",
    "- Familiarizarse con la plataforma de GitHub.\n",
    "- Instalar y entender lo básico de Git (en terminal).\n",
    "- Instalar un cliente de Git y aprender a utilizarlo.\n",
    "- Practicar con un caso real el flujo de trabajo con Git y GitHub."
   ]
  },
  {
   "cell_type": "markdown",
   "metadata": {
    "slideshow": {
     "slide_type": "slide"
    }
   },
   "source": [
    "## Instalaciones"
   ]
  },
  {
   "cell_type": "markdown",
   "metadata": {
    "slideshow": {
     "slide_type": "subslide"
    }
   },
   "source": [
    "- Git:\n",
    "\n",
    "```\n",
    ":$ apt-get install git\n",
    "```\n",
    "\n",
    "```\n",
    ":$ git --version\n",
    "```\n",
    "\n",
    "- SmartGit:\n",
    "\n",
    "http://www.syntevo.com/smartgit/download?file=smartgit/smartgit-7_0_4.deb"
   ]
  },
  {
   "cell_type": "markdown",
   "metadata": {
    "slideshow": {
     "slide_type": "slide"
    }
   },
   "source": [
    "# GitHub\n",
    "\n",
    "https://github.com/"
   ]
  },
  {
   "cell_type": "markdown",
   "metadata": {
    "slideshow": {
     "slide_type": "subslide"
    }
   },
   "source": [
    "## Características principales de GitHub\n",
    "\n",
    "<center>\n",
    "<img src=\"images/github-repositories.png\" height=\"700\" width=\"700\">\n",
    "</center>"
   ]
  }
 ],
 "metadata": {
  "celltoolbar": "Slideshow",
  "kernelspec": {
   "display_name": "Julia 0.5.0-dev",
   "language": "julia",
   "name": "julia-0.5"
  },
  "language_info": {
   "file_extension": ".jl",
   "mimetype": "application/julia",
   "name": "julia",
   "version": "0.5.0"
  }
 },
 "nbformat": 4,
 "nbformat_minor": 0
}
