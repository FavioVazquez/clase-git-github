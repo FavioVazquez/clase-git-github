{
 "cells": [
  {
   "cell_type": "markdown",
   "metadata": {
    "slideshow": {
     "slide_type": "slide"
    }
   },
   "source": [
    "<h1 align=\"center\"> Git y GitHub </h1>\n",
    "\n",
    "<center><img src=\"images/git-github.png\" height=\"800\" width=\"800\">\n",
    "</center>\n",
    "\n",
    "<h3 align=\"center\"> Favio Vázquez. Instituto de Ciencias Nucleares - UNAM.</h3> \n",
    "<h5 align=\"center\"> Ciudad de México, 07 de septiembre de 2016.</h5>"
   ]
  },
  {
   "cell_type": "markdown",
   "metadata": {
    "slideshow": {
     "slide_type": "slide"
    }
   },
   "source": [
    "## Objetivos \n",
    "\n",
    "- Entender el flujo de trabajo con Git y GitHub.\n",
    "- Familiarizarse con la plataforma de GitHub.\n",
    "- Instalar y entender lo básico de Git (en terminal).\n",
    "- Instalar un cliente de Git y aprender a utilizarlo.\n",
    "- Practicar con un caso real el flujo de trabajo con Git y GitHub."
   ]
  },
  {
   "cell_type": "markdown",
   "metadata": {
    "slideshow": {
     "slide_type": "slide"
    }
   },
   "source": [
    "## Instalaciones"
   ]
  },
  {
   "cell_type": "markdown",
   "metadata": {
    "slideshow": {
     "slide_type": "subslide"
    }
   },
   "source": [
    "- Git:\n",
    "\n",
    "```\n",
    ":$ apt-get install git\n",
    "```\n",
    "\n",
    "```\n",
    ":$ git --version\n",
    "```\n",
    "\n",
    "- SmartGit:\n",
    "\n",
    "http://www.syntevo.com/smartgit/download"
   ]
  },
  {
   "cell_type": "markdown",
   "metadata": {
    "slideshow": {
     "slide_type": "slide"
    }
   },
   "source": [
    "# GitHub\n",
    "\n",
    "https://github.com/"
   ]
  },
  {
   "cell_type": "markdown",
   "metadata": {
    "slideshow": {
     "slide_type": "fragment"
    }
   },
   "source": [
    "## Creemos una cuenta"
   ]
  },
  {
   "cell_type": "markdown",
   "metadata": {
    "slideshow": {
     "slide_type": "subslide"
    }
   },
   "source": [
    "## Características principales de GitHub\n",
    "\n",
    "<center>\n",
    "<img src=\"images/github-repositories.png\" height=\"800\" width=\"800\">\n",
    "</center>"
   ]
  },
  {
   "cell_type": "markdown",
   "metadata": {
    "slideshow": {
     "slide_type": "slide"
    }
   },
   "source": [
    "## Creemos y exploremos un repositorio "
   ]
  },
  {
   "cell_type": "markdown",
   "metadata": {
    "slideshow": {
     "slide_type": "subslide"
    }
   },
   "source": [
    "## Issues:\n",
    "\n",
    "<center>\n",
    "<img src=\"images/issues.png\" height=\"800\" width=\"800\">\n",
    "</center>"
   ]
  },
  {
   "cell_type": "markdown",
   "metadata": {
    "slideshow": {
     "slide_type": "slide"
    }
   },
   "source": [
    "## Navegando en GitHub\n",
    "\n",
    "<center>\n",
    "<img src=\"images/github-flow.png\" height=\"900\" width=\"900\">\n",
    "</center>"
   ]
  },
  {
   "cell_type": "markdown",
   "metadata": {
    "slideshow": {
     "slide_type": "subslide"
    }
   },
   "source": [
    "## Branches (Creemos uno).\n",
    "\n",
    "Crear branches es una parte esencial de usar Git y GitHub. Y es muy fácil. Cuando creamos un branch, estamos creando una copia identica del proyecto en ese punto del tiempo, que está completamente separada del branch master. Esto mantiene a tu código en master seguro mientras experimentas y arreglas issues.\n",
    "<center>\n",
    "<img src=\"images/github-branches.png\" height=\"700\" width=\"700\">\n",
    "</center>"
   ]
  },
  {
   "cell_type": "markdown",
   "metadata": {
    "slideshow": {
     "slide_type": "subslide"
    }
   },
   "source": [
    "## Creando archivos en GitHub\n",
    "\n",
    "- Se pueden crear nuevos archivos directamente en la interfaz web.\n",
    "- Luego que terminemos de editar el archivo, hacemos un \"commit\" de los cambios. \n",
    "- Incluímos siempre un mensaje a tu commit, y nos asegurams que estamos en el branch correcto antes de hacer el mismo."
   ]
  },
  {
   "cell_type": "markdown",
   "metadata": {
    "slideshow": {
     "slide_type": "fragment"
    }
   },
   "source": [
    "Creemos el archivo Prueba.md"
   ]
  },
  {
   "cell_type": "markdown",
   "metadata": {
    "slideshow": {
     "slide_type": "slide"
    }
   },
   "source": [
    "## Pull Requests (PR)\n",
    "\n",
    "Un PR es una petición para hacer \"merge\" de un branch con otro. Se usan para discutir los cambios hechos en el branch, y para continuar haciendo cambios hasta que el branch esté completo y el equipo esté de acuerdo en que puede hacerse merge. Son la forma de llevar el código, documentación, o de lo que trate el repo, al branch master y mantenerlo actualizado.\n",
    "\n",
    "<center>\n",
    "<img src=\"images/pull-requests.png\" height=\"600\" width=\"600\">\n",
    "</center>"
   ]
  },
  {
   "cell_type": "markdown",
   "metadata": {
    "slideshow": {
     "slide_type": "subslide"
    }
   },
   "source": [
    "<center>\n",
    "<img src=\"images/pull-request.png\" height=\"900\" width=\"900\">\n",
    "</center>"
   ]
  },
  {
   "cell_type": "markdown",
   "metadata": {
    "slideshow": {
     "slide_type": "slide"
    }
   },
   "source": [
    "## Haciendo merge a un Pull Request\n",
    "\n",
    "- Para hacer merge a nuestro branch al branch master, debemos hacer click en el botón Merge Pull Request en la vista de conversación. \n",
    "- Debemos usar la palabra Fixes (o closes, o close..) seguido por # y el número del Issue para cerrar el Issue al mismo tiempo que el Pull Request. Lista completa de palabras para cerrar PR: [click aquí](https://help.github.com/articles/closing-issues-via-commit-messages/).\n",
    "- Luego de que el PR haya sido aceptado y cerrado, se puede borrar el branch donde se estaba trabajando ya que no lo necesitaremos más."
   ]
  },
  {
   "cell_type": "markdown",
   "metadata": {
    "slideshow": {
     "slide_type": "subslide"
    }
   },
   "source": [
    "<center>\n",
    "<img src=\"images/merge.png\" height=\"900\" width=\"900\">\n",
    "</center>"
   ]
  },
  {
   "cell_type": "markdown",
   "metadata": {
    "slideshow": {
     "slide_type": "slide"
    }
   },
   "source": [
    "# Git\n",
    "\n",
    "Git es un programa que sirve para rastrear los cambios en las versiones de un programa o proyecto (\"version control system\", o VCS). Se puede usar desde la línea de comandos o desde un cliente; permite chequear cambios en cualquier punto de la historia, resetear a algún punto específico del historial, tener desarrollos independientes, etc. Es código abierto. Fue inventado por Linus Torvalds en el 2005 para el manejo y desarrollo del kernel de Linux. En pocas palabras, es un manejador de repositorios."
   ]
  },
  {
   "cell_type": "markdown",
   "metadata": {
    "slideshow": {
     "slide_type": "fragment"
    }
   },
   "source": [
    "Cuando usemos la terminal, estaremos trabajando con Git. Git es el sistema de versiones de control que GitHub utiliza tras bambalinas. GitHub añade funcionalidades como pull request e issues. Pero lo que hemos visto de crear branches o hacer commits son funcionalidades de Git."
   ]
  },
  {
   "cell_type": "markdown",
   "metadata": {
    "slideshow": {
     "slide_type": "subslide"
    }
   },
   "source": [
    "<center>\n",
    "<img src=\"images/git-v-github.png\" height=\"900\" width=\"900\">\n",
    "</center>"
   ]
  },
  {
   "cell_type": "markdown",
   "metadata": {
    "slideshow": {
     "slide_type": "subslide"
    }
   },
   "source": [
    "## Niveles de configuración de Git\n",
    "\n",
    "- --system - Afectan a todo el sistema, y a todos los usuarios de la computadora. \n",
    "- --global - Configuraciones a nivel de usuario, solo para el usuario activo en el momento. \n",
    "- --local -Configuraciones a nivel del repositorio. Solo aplican al repositorio en que se hacen.\n",
    "\n",
    "Para ver que configuraciones tenemos activas:\n",
    "\n",
    "```\n",
    ":$ git config --list\n",
    "```"
   ]
  },
  {
   "cell_type": "markdown",
   "metadata": {
    "slideshow": {
     "slide_type": "subslide"
    }
   },
   "source": [
    "## Configurando nombre de usuario y correo\n",
    "\n",
    "\n",
    "```\n",
    ":$ git config --global user.name \"<nombre_completo>\" \n",
    "```\n",
    "\n",
    "```\n",
    ":$ git config --global user.email \"<email>\".\n",
    "```"
   ]
  },
  {
   "cell_type": "markdown",
   "metadata": {
    "slideshow": {
     "slide_type": "subslide"
    }
   },
   "source": [
    "## Manejar los espacios en blanco con Autocrlf\n",
    "\n",
    "Diferente sistemas manejan los finales de línea y los espacios entre líneas de forma diferente. Si abrimos un archivo en otro sistema que no tiene activado el autocrlf, Git hará cambios al archivo basándose en la manera en l que ese sistema maneja ese tipo de archivos (algo no deseado). \n",
    "\n",
    "```\n",
    ":$ git config --global core.autocrlf\n",
    "```"
   ]
  },
  {
   "cell_type": "markdown",
   "metadata": {
    "slideshow": {
     "slide_type": "slide"
    }
   },
   "source": [
    "# Clonando repositorios\n",
    "\n",
    "<center>\n",
    "<img src=\"images/clone-diagram.png\" height=\"800\" width=\"800\">\n",
    "</center>"
   ]
  },
  {
   "cell_type": "markdown",
   "metadata": {
    "slideshow": {
     "slide_type": "slide"
    }
   },
   "source": [
    "# La magia de los sistemas de versiones de control\n",
    "\n",
    "Ahora comenzaremos a trabajar localmente, como se debe hacer, y cuando estemos satisfechos con nuestros aportes o cambios, haremos \"push\" al branch para que se vea reflejado el cambio en GitHub, y sea visible por todos los participantes. \n",
    "\n",
    "Todo esto que explicaremos a continuación puede hacerse desde la terminal, pero con un poco más de esfuerzo. "
   ]
  },
  {
   "cell_type": "markdown",
   "metadata": {
    "slideshow": {
     "slide_type": "slide"
    }
   },
   "source": [
    "# SmartGit\n",
    "\n",
    "Para hacernos la vida fácil, viene SmartGit al rescate. Un cliente de Git para Windows, Mac y Linux, muy fácil de utilizar, robusto, confiable y en constante actualización.\n",
    "\n",
    "<center>\n",
    "    <img src=\"images/SmartGitSyntevo.png\" height=\"500\" width=\"500\">\n",
    "</center>"
   ]
  },
  {
   "cell_type": "markdown",
   "metadata": {
    "slideshow": {
     "slide_type": "slide"
    }
   },
   "source": [
    "<h1 align=\"center\"> Hora de practicar y usar SmarGit con GitHub </h1>"
   ]
  }
 ],
 "metadata": {
  "celltoolbar": "Slideshow",
  "kernelspec": {
   "display_name": "Julia 0.5.0-dev",
   "language": "julia",
   "name": "julia-0.5"
  },
  "language_info": {
   "file_extension": ".jl",
   "mimetype": "application/julia",
   "name": "julia",
   "version": "0.5.0"
  }
 },
 "nbformat": 4,
 "nbformat_minor": 0
}
